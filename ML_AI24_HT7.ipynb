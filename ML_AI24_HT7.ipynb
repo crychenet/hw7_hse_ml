{
 "nbformat": 4,
 "nbformat_minor": 0,
 "metadata": {
  "colab": {
   "provenance": [],
   "include_colab_link": true
  },
  "kernelspec": {
   "name": "python3",
   "language": "python",
   "display_name": "Python 3 (ipykernel)"
  },
  "language_info": {
   "name": "python"
  }
 },
 "cells": [
  {
   "cell_type": "markdown",
   "metadata": {
    "id": "view-in-github",
    "colab_type": "text"
   },
   "source": [
    "<a href=\"https://colab.research.google.com/github/Murcha1990/ML_AI24/blob/main/Hometasks/Pro/ML_AI24_HT7.ipynb\" target=\"_parent\"><img src=\"https://colab.research.google.com/assets/colab-badge.svg\" alt=\"Open In Colab\"/></a>"
   ]
  },
  {
   "cell_type": "markdown",
   "source": [
    "# **Домашнее задание 7: Fraud Detection Competition**\n",
    "\n",
    "Добро пожаловать на финальное домашнее задание курса! Домашнее задание направлено на систематизацию всех знаний, полученных в процессе учебы.\n",
    "\n",
    "В нём Вы потренируетесь применять навыки построения пайплайнов машинного обучения, приобретенные в курсе от точки разведочного анализа данных до построения и валидации моделей машинного обучения.\n",
    "\n",
    "## **Задача**\n",
    "**Вы будете решать задачу определения фрода:**\n",
    "\n",
    "https://www.kaggle.com/competitions/fraud-detection-24\n",
    "\n",
    "**Вам нужно будет:**\n",
    "- в jupyter notebook провести исследование данных;\n",
    "- в нём же построить модели и оценить их качество;\n",
    "- отправить посылку на Kaggle.\n",
    "\n",
    "Более подробное описание шагов - в ноутбуке ниже.\n",
    "\n",
    "## **Оценивание и баллы**\n",
    "- В EDA и во всей работе будут оцениваться полнота и **выводы**;\n",
    "- При обучении моделей старайтесь обоснованно подходить к их выбору, избегая простого перебора;\n",
    "\n",
    "**Максимальный балл** - 10 (+ бонусы за Kaggle, см. ниже).\n",
    "\n",
    "\n",
    "Мягкий дедлайн (окончание соревнования на Kaggle): **15 марта 23:59**\n"
   ],
   "metadata": {
    "id": "p7Vud7oB5y9q"
   }
  },
  {
   "cell_type": "markdown",
   "source": [
    "# **Базовое решение и пример формирования файла под submission**\n"
   ],
   "metadata": {
    "id": "T1oMvDTqqU3V"
   }
  },
  {
   "cell_type": "code",
   "source": [
    "import numpy as np\n",
    "!wget --no-check-certificate 'https://www.dropbox.com/s/5iuef7c9ljj84t6/train_transaction.csv?dl=0' -O train_transaction.csv\n",
    "!wget --no-check-certificate 'https://www.dropbox.com/s/cmy01z5fw7ohlmd/train_identity.csv?dl=0' -O train_identity.csv\n",
    "!wget --no-check-certificate 'https://www.dropbox.com/s/7thqkuxnwsa7njj/test_transaction.csv?dl=0' -O test_transaction.csv\n",
    "!wget --no-check-certificate 'https://www.dropbox.com/s/b40nvbb9e2usd5w/test_identity.csv?dl=0' -O test_identity.csv\n",
    "!wget --no-check-certificate 'https://www.dropbox.com/s/arkyoz0bel8z4d2/sample_submission.csv?dl=0' -O sample_submission.csv"
   ],
   "metadata": {
    "colab": {
     "base_uri": "https://localhost:8080/"
    },
    "id": "9tPZ6DjAqaW-",
    "outputId": "da044f5a-15d1-426f-89fb-077060794d24"
   },
   "execution_count": null,
   "outputs": []
  },
  {
   "cell_type": "code",
   "source": [
    "!pip install catboost -q"
   ],
   "metadata": {
    "id": "YrOxS8n8q2v1"
   },
   "execution_count": null,
   "outputs": []
  },
  {
   "cell_type": "code",
   "source": [
    "# from catboost import CatBoostClassifier\n",
    "import pandas as pd\n",
    "import os\n",
    "from tqdm import tqdm\n",
    "\n",
    "INPUT_DIR = r\"C:\\Users\\vyacheslav\\Downloads\\Telegram Desktop\"\n",
    "\n",
    "train_transaction = pd.read_csv(os.path.join(INPUT_DIR, 'train_transaction.csv'))\n",
    "train_identity = pd.read_csv(os.path.join(INPUT_DIR, 'train_identity.csv'))\n",
    "test_transaction = pd.read_csv(os.path.join(INPUT_DIR, 'test_transaction.csv'))\n",
    "test_identity = pd.read_csv(os.path.join(INPUT_DIR, 'test_identity.csv'))\n",
    "sample_submission = pd.read_csv(os.path.join(INPUT_DIR, 'sample_submission.csv'))\n",
    "\n",
    "df_train = train_transaction.merge(train_identity, how='left', on='TransactionID')\n",
    "\n",
    "df_test = test_transaction.merge(test_identity, how='left', on='TransactionID')"
   ],
   "metadata": {
    "id": "IdCmv4IoqxHJ",
    "ExecuteTime": {
     "end_time": "2025-03-20T12:13:23.317424Z",
     "start_time": "2025-03-20T12:11:06.463970900Z"
    }
   },
   "execution_count": 6,
   "outputs": []
  },
  {
   "cell_type": "code",
   "source": [
    "df_train.drop(['TransactionID', 'TransactionDT'], axis=1, inplace=True)\n",
    "df_test.drop(['TransactionID', 'TransactionDT'], axis=1, inplace=True)\n",
    "df_train.shape, df_test.shape"
   ],
   "metadata": {
    "colab": {
     "base_uri": "https://localhost:8080/"
    },
    "id": "alfrJEFzrTp6",
    "outputId": "b4e8debe-4f72-4608-f706-c5ee872fa5de",
    "ExecuteTime": {
     "end_time": "2025-03-20T12:14:43.889421200Z",
     "start_time": "2025-03-20T12:13:52.428925600Z"
    }
   },
   "execution_count": 7,
   "outputs": [
    {
     "data": {
      "text/plain": "((417559, 432), (172981, 431))"
     },
     "execution_count": 7,
     "metadata": {},
     "output_type": "execute_result"
    }
   ]
  },
  {
   "cell_type": "code",
   "source": [
    "object_cols = []\n",
    "for idx, col in tqdm(enumerate(df_train.columns.drop('isFraud'))):\n",
    "    if df_train[col].dtype == 'O':\n",
    "      object_cols.append(idx)"
   ],
   "metadata": {
    "colab": {
     "base_uri": "https://localhost:8080/"
    },
    "id": "B24-pJJDsijB",
    "outputId": "cf80ff41-a810-4675-de5d-6a049300ade1",
    "ExecuteTime": {
     "end_time": "2025-03-20T12:14:44.975216600Z",
     "start_time": "2025-03-20T12:14:43.977398200Z"
    }
   },
   "execution_count": 8,
   "outputs": [
    {
     "name": "stderr",
     "output_type": "stream",
     "text": [
      "431it [00:00, 3855.45it/s]\n"
     ]
    }
   ]
  },
  {
   "cell_type": "code",
   "source": [
    "X_train = df_train.drop('isFraud', axis=1)\n",
    "X_train = X_train.fillna('')\n",
    "y_train = df_train['isFraud'].values\n",
    "\n",
    "cb = CatBoostClassifier(iterations=3)\n",
    "cb.fit(X_train, y_train, object_cols, )"
   ],
   "metadata": {
    "colab": {
     "base_uri": "https://localhost:8080/"
    },
    "id": "mkAxbs_qtC-b",
    "outputId": "34b8bd7f-019d-46db-a236-fb1bab7ca4c5"
   },
   "execution_count": null,
   "outputs": []
  },
  {
   "cell_type": "code",
   "source": [
    "predictions = cb.predict_proba(df_test.fillna(''))"
   ],
   "metadata": {
    "id": "a0y2SH1yvKy2"
   },
   "execution_count": null,
   "outputs": []
  },
  {
   "cell_type": "code",
   "source": [
    "sub = pd.DataFrame({'TransactionID': sample_submission['TransactionID'], 'isFraud': predictions[:, 0]})\n",
    "sub.head()"
   ],
   "metadata": {
    "colab": {
     "base_uri": "https://localhost:8080/",
     "height": 206
    },
    "id": "hGl-RlnSv0Vz",
    "outputId": "ddbe85dd-76e6-41b8-b08b-dfed4fad7d0b"
   },
   "execution_count": null,
   "outputs": []
  },
  {
   "cell_type": "code",
   "source": [
    "# Сохранение submission\n",
    "sub.to_csv('submission_baseline.csv', index=False)"
   ],
   "metadata": {
    "id": "c-NE7v4_v7jb"
   },
   "execution_count": null,
   "outputs": []
  },
  {
   "cell_type": "code",
   "execution_count": null,
   "outputs": [],
   "source": [
    "sub"
   ],
   "metadata": {
    "collapsed": false
   }
  },
  {
   "cell_type": "markdown",
   "source": [
    "### **Примечания:**\n",
    "\n",
    "**1. Оценка качества и Submission File**\n",
    "- Ответом является число от 0 до 1, метрикой качества - AUC-ROC.\n",
    "- Структура Submission File:\n",
    " - для каждого значения *TransactionID* в тестовых данных вы должны предсказать **вероятность** для столбца *isFraud*.\n",
    " - в файле у вас должно быть две колонки: `TransactionID` и`isFraud`  **для каждой транзакции в датасете**.\n",
    "\n",
    "**2. Объем данных**\n",
    "\n",
    "Поскольку набор данных объемный, могут быть проблемы с переполнением памяти в Collab. Для решения проблемы можете использовать функцию из [этого ноутбука](https://colab.research.google.com/drive/18u75eyFGEoyeWJ_MbsLkcPa6gv2tNI8G#scrollTo=V2L1Nl5CTMMl), разобравшись, что она делает с данными."
   ],
   "metadata": {
    "id": "ES0ZdLnfvPm-"
   }
  },
  {
   "cell_type": "markdown",
   "source": [
    "# **Задание 1 (2 балла)**\n",
    "\n",
    "Проведите EDA (разведочный анализ данных):\n",
    "* проанализируйте признаки, их особенности и связь с целевой переменной\n",
    "* проанализируйте целевую переменную\n",
    "* оцените степень попарной взаимосвязи признаков, а также связи признаков и целевой переменной\n",
    "* по результатам исследований сделайте необходимую обработку данных (удаление дублей, работа с пропусками, с категориальными столбцами (если они есть), работа с аномалиями, другие преобразования признаков)\n",
    "\n",
    "Важно, что EDA всегда сопровождается выводами - не забудьте об этом."
   ],
   "metadata": {
    "id": "_h-Grgsp64a_"
   }
  },
  {
   "cell_type": "code",
   "execution_count": 96,
   "metadata": {
    "id": "6moN1PRa5wih",
    "ExecuteTime": {
     "end_time": "2025-03-20T17:08:13.386170700Z",
     "start_time": "2025-03-20T17:08:13.253136800Z"
    }
   },
   "outputs": [],
   "source": [
    "from sklearn.base import BaseEstimator, TransformerMixin\n",
    "from category_encoders import TargetEncoder\n",
    "from sklearn.pipeline import Pipeline\n",
    "from sklearn.compose import ColumnTransformer\n",
    "from sklearn.preprocessing import OneHotEncoder\n",
    "from sklearn.pipeline import Pipeline, FeatureUnion\n",
    "import pandas as pd\n",
    "import matplotlib.pyplot as plt\n",
    "import seaborn as sns"
   ]
  },
  {
   "cell_type": "code",
   "execution_count": 67,
   "outputs": [
    {
     "data": {
      "text/plain": "isFraud\n0    0.964745\n1    0.035255\nName: proportion, dtype: float64"
     },
     "execution_count": 67,
     "metadata": {},
     "output_type": "execute_result"
    }
   ],
   "source": [
    "df_train['isFraud'].value_counts(normalize=True)"
   ],
   "metadata": {
    "collapsed": false,
    "ExecuteTime": {
     "end_time": "2025-03-20T16:00:42.295147600Z",
     "start_time": "2025-03-20T16:00:42.206083700Z"
    }
   }
  },
  {
   "cell_type": "markdown",
   "source": [
    "Целевая переменная сильно не сбалансированная, но это типично для данной задачи."
   ],
   "metadata": {
    "collapsed": false
   }
  },
  {
   "cell_type": "code",
   "execution_count": 98,
   "outputs": [],
   "source": [
    "df_train = df_train[~df_train.duplicated()]"
   ],
   "metadata": {
    "collapsed": false,
    "ExecuteTime": {
     "end_time": "2025-03-20T17:18:13.493028100Z",
     "start_time": "2025-03-20T17:16:36.102968200Z"
    }
   }
  },
  {
   "cell_type": "markdown",
   "source": [
    "Удалим полные дубликаты"
   ],
   "metadata": {
    "collapsed": false
   }
  },
  {
   "cell_type": "code",
   "execution_count": 22,
   "outputs": [
    {
     "data": {
      "text/plain": "<Figure size 1000x600 with 1 Axes>",
      "image/png": "[encoded data removed]"
     },
     "metadata": {},
     "output_type": "display_data"
    }
   ],
   "source": [
    "def plot_kde_distribution(df):\n",
    "    plt.figure(figsize=(10, 6))\n",
    "    \n",
    "    sns.kdeplot(df[df['isFraud'] == 0]['TransactionAmt'], fill=True, color='blue', label='Not Fraud (0)', alpha=0.6)\n",
    "    sns.kdeplot(df[df['isFraud'] == 1]['TransactionAmt'], fill=True, color='red', label='Fraud (1)', alpha=0.6)\n",
    "    \n",
    "    plt.xlabel('Transaction Amount')\n",
    "    plt.xscale('log')\n",
    "    plt.ylabel('Density')\n",
    "    plt.title('KDE Distribution of Transaction Amount by Fraud Status')\n",
    "    plt.legend()\n",
    "    plt.show()\n",
    "\n",
    "\n",
    "plot_kde_distribution(df_train)"
   ],
   "metadata": {
    "collapsed": false,
    "ExecuteTime": {
     "end_time": "2025-03-20T13:01:45.196016400Z",
     "start_time": "2025-03-20T13:01:08.254918Z"
    }
   }
  },
  {
   "cell_type": "markdown",
   "source": [
    "Распределение транзакций сильно скошено влево (правый хвост длинный)\n",
    "\n",
    "Основная масса значений маленькая.\n",
    "\n",
    "Длинный правый хвост указывает на редкие крупные транзакции.\n",
    "Мошеннические (isFraud = 1, красный) и немошеннические (isFraud = 0, синий) транзакции распределены похоже в малых значениях\n",
    "Однако мошеннические транзакции чуть более концентрированы в малых суммах.\n",
    "Это может говорить о том, что мошенники чаще оперируют небольшими суммами."
   ],
   "metadata": {
    "collapsed": false
   }
  },
  {
   "cell_type": "code",
   "execution_count": 86,
   "outputs": [],
   "source": [
    "class FillMissingValues(BaseEstimator, TransformerMixin):    \n",
    "    def __init__(self, strategy=\"mode\"):\n",
    "        if strategy not in [\"mode\", \"median\", \"unknown\"]:\n",
    "            raise ValueError(\"strategy должен быть 'mode', 'median' или 'unknown'\")\n",
    "        self.strategy = strategy\n",
    "        self.fill_values_ = None\n",
    "\n",
    "    def fit(self, X, y=None):\n",
    "        if self.strategy == \"unknown\":\n",
    "            return self\n",
    "        \n",
    "        if isinstance(X, pd.DataFrame):\n",
    "            if self.strategy == \"mode\":\n",
    "                self.fill_values_ = X.mode().iloc[0]\n",
    "            else:\n",
    "                self.fill_values_ = X.median()\n",
    "        else:\n",
    "            if self.strategy == \"mode\":\n",
    "                self.fill_values_ = pd.Series(X).mode().iloc[0]\n",
    "            else:\n",
    "                self.fill_values_ = pd.Series(X).median()\n",
    "        return self\n",
    "\n",
    "    def transform(self, X):\n",
    "        X_filled = X.copy()\n",
    "\n",
    "        if self.strategy == \"unknown\":\n",
    "            return X_filled.fillna(\"unknown\")\n",
    "        \n",
    "        if self.fill_values_ is None:\n",
    "            raise ValueError(\"FillModeTransformer не обучен. Вызовите fit() перед transform().\")\n",
    "        \n",
    "        if isinstance(X, pd.DataFrame):\n",
    "            for col in X.columns:\n",
    "                X_filled[col] = X_filled[col].fillna(self.fill_values_[col])\n",
    "        else:\n",
    "            X_filled = X.fillna(self.fill_values_)\n",
    "        return X_filled\n",
    "    \n",
    "\n",
    "# transformer = FillMissingValues()\n",
    "# transformer.fit(df_train[['card4']])\n",
    "# transformer.transform(df_train[['card4']])\n",
    "# transformer.transform(df_test[['card4']])"
   ],
   "metadata": {
    "collapsed": false,
    "ExecuteTime": {
     "end_time": "2025-03-20T16:42:49.996142600Z",
     "start_time": "2025-03-20T16:42:49.878522800Z"
    }
   }
  },
  {
   "cell_type": "code",
   "execution_count": 79,
   "outputs": [],
   "source": [
    "def extract_os(os_string):\n",
    "    if pd.isna(os_string):\n",
    "        return os_string\n",
    "    os_string = os_string.lower()\n",
    "    if \"windows\" in os_string:\n",
    "        return \"Windows\"\n",
    "    elif \"mac os\" in os_string or \"mac\" in os_string:\n",
    "        return \"MacOS\"\n",
    "    elif \"ios\" in os_string:\n",
    "        return \"iOS\"\n",
    "    elif \"android\" in os_string:\n",
    "        return \"Android\"\n",
    "    elif \"linux\" in os_string:\n",
    "        return \"Linux\"\n",
    "    else:\n",
    "        return \"Other\"\n",
    "\n",
    "df_train[\"id_30\"] = df_train[\"id_30\"].apply(extract_os)"
   ],
   "metadata": {
    "collapsed": false,
    "ExecuteTime": {
     "end_time": "2025-03-20T16:23:43.056368400Z",
     "start_time": "2025-03-20T16:23:42.123570200Z"
    }
   }
  },
  {
   "cell_type": "markdown",
   "source": [
    "Выдернем у группы id_30 информацию основную об устройстве."
   ],
   "metadata": {
    "collapsed": false
   }
  },
  {
   "cell_type": "markdown",
   "source": [
    "Заметим, что у нас присутствует большое кол-во пропусков в категориальных признаках. Предлагаю исправлять у таких признаков, как 'DeviceInfo', 'id_31', 'id_33', 'P_emaildomain', 'R_emaildomain' больше кол-во отсутствующих значений у категориальных признаков с помощью объединения в более крупные группы и присвоения особой группы для всех отсутствующих значений, а дальше закодировать с помощью счетчиков (если нужно для алгоритма).\n",
    "В card4 и card6 заполним пропуски просто модой.\n",
    "Остальные категориальные переменные предлагаю оставить, просто создав новую категорию, обозначающую отсутствующее значение.\n",
    " "
   ],
   "metadata": {
    "collapsed": false
   }
  },
  {
   "cell_type": "code",
   "execution_count": 87,
   "outputs": [],
   "source": [
    "class TopNCategoricalEncoder(BaseEstimator, TransformerMixin):\n",
    "    def __init__(self, top_n=10):\n",
    "        self.top_n = top_n\n",
    "        self.top_categories_ = None\n",
    "\n",
    "    def fit(self, X, y=None):\n",
    "        if isinstance(X, pd.DataFrame):\n",
    "            X = X.iloc[:, 0]\n",
    "        self.top_categories_ = set(X.value_counts().index[:self.top_n].values)\n",
    "        return self\n",
    "\n",
    "    def transform(self, X):\n",
    "        if isinstance(X, pd.DataFrame):\n",
    "            X = X.iloc[:, 0]\n",
    "\n",
    "        def categorize(value):\n",
    "            if pd.isna(value):\n",
    "                return \"unknown\"\n",
    "            elif value in self.top_categories_:\n",
    "                return value\n",
    "            else:\n",
    "                return \"other\"\n",
    "\n",
    "        return X.apply(categorize).to_frame()\n"
   ],
   "metadata": {
    "collapsed": false,
    "ExecuteTime": {
     "end_time": "2025-03-20T16:42:55.323637100Z",
     "start_time": "2025-03-20T16:42:55.172034400Z"
    }
   }
  },
  {
   "cell_type": "code",
   "execution_count": 55,
   "outputs": [
    {
     "data": {
      "text/plain": "             isFraud  TransactionAmt          card1          card2  \\\ncount  417559.000000   417559.000000  417559.000000  410996.000000   \nmean        0.035255      134.666566    9865.320371     363.474253   \nstd         0.184424      238.166118    4900.674210     158.146603   \nmin         0.000000        0.251000    1000.000000     100.000000   \n25%         0.000000       42.950000    6019.000000     215.000000   \n50%         0.000000       68.950000    9633.000000     361.000000   \n75%         0.000000      125.000000   14128.000000     512.000000   \nmax         1.000000    31937.391000   18396.000000     600.000000   \n\n               card3          card5          addr1          addr2  \\\ncount  416738.000000  414578.000000  369586.000000  369586.000000   \nmean      153.347864     199.687439     290.437990      86.762670   \nstd        11.566162      40.783018     101.852266       2.930881   \nmin       100.000000     100.000000     100.000000      10.000000   \n25%       150.000000     166.000000     204.000000      87.000000   \n50%       150.000000     226.000000     299.000000      87.000000   \n75%       150.000000     226.000000     330.000000      87.000000   \nmax       231.000000     237.000000     540.000000     102.000000   \n\n               dist1         dist2  ...          id_17         id_18  \\\ncount  159468.000000  29286.000000  ...  107259.000000  34269.000000   \nmean      124.795796    239.833094  ...     187.936416     14.172547   \nstd       381.805459    538.292779  ...      30.118252      1.479054   \nmin         0.000000      0.000000  ...     100.000000     10.000000   \n25%         3.000000      7.000000  ...     166.000000     13.000000   \n50%         9.000000     36.000000  ...     166.000000     15.000000   \n75%        25.000000    225.000000  ...     225.000000     15.000000   \nmax     10286.000000  11623.000000  ...     229.000000     29.000000   \n\n               id_19          id_20        id_21        id_22        id_24  \\\ncount  107226.000000  107209.000000  3950.000000  3954.000000  3624.000000   \nmean      352.299619     400.498661   371.863038    15.991148    12.790563   \nstd       140.265671     150.423924   200.186906     6.891239     2.189355   \nmin       100.000000     100.000000   100.000000    10.000000    11.000000   \n25%       266.000000     256.000000   252.000000    14.000000    11.000000   \n50%       341.000000     469.000000   252.000000    14.000000    11.000000   \n75%       427.000000     521.000000   500.000000    14.000000    15.000000   \nmax       671.000000     661.000000   854.000000    44.000000    26.000000   \n\n             id_25        id_26         id_32  \ncount  3930.000000  3948.000000  62116.000000  \nmean    328.534351   148.645643     26.635327  \nstd      98.821070    32.355822      3.787343  \nmin     100.000000   100.000000      0.000000  \n25%     321.000000   119.000000     24.000000  \n50%     321.000000   147.000000     24.000000  \n75%     371.000000   169.000000     32.000000  \nmax     548.000000   216.000000     32.000000  \n\n[8 rows x 401 columns]",
      "text/html": "<div>\n<style scoped>\n    .dataframe tbody tr th:only-of-type {\n        vertical-align: middle;\n    }\n\n    .dataframe tbody tr th {\n        vertical-align: top;\n    }\n\n    .dataframe thead th {\n        text-align: right;\n    }\n</style>\n<table border=\"1\" class=\"dataframe\">\n  <thead>\n    <tr style=\"text-align: right;\">\n      <th></th>\n      <th>isFraud</th>\n      <th>TransactionAmt</th>\n      <th>card1</th>\n      <th>card2</th>\n      <th>card3</th>\n      <th>card5</th>\n      <th>addr1</th>\n      <th>addr2</th>\n      <th>dist1</th>\n      <th>dist2</th>\n      <th>...</th>\n      <th>id_17</th>\n      <th>id_18</th>\n      <th>id_19</th>\n      <th>id_20</th>\n      <th>id_21</th>\n      <th>id_22</th>\n      <th>id_24</th>\n      <th>id_25</th>\n      <th>id_26</th>\n      <th>id_32</th>\n    </tr>\n  </thead>\n  <tbody>\n    <tr>\n      <th>count</th>\n      <td>417559.000000</td>\n      <td>417559.000000</td>\n      <td>417559.000000</td>\n      <td>410996.000000</td>\n      <td>416738.000000</td>\n      <td>414578.000000</td>\n      <td>369586.000000</td>\n      <td>369586.000000</td>\n      <td>159468.000000</td>\n      <td>29286.000000</td>\n      <td>...</td>\n      <td>107259.000000</td>\n      <td>34269.000000</td>\n      <td>107226.000000</td>\n      <td>107209.000000</td>\n      <td>3950.000000</td>\n      <td>3954.000000</td>\n      <td>3624.000000</td>\n      <td>3930.000000</td>\n      <td>3948.000000</td>\n      <td>62116.000000</td>\n    </tr>\n    <tr>\n      <th>mean</th>\n      <td>0.035255</td>\n      <td>134.666566</td>\n      <td>9865.320371</td>\n      <td>363.474253</td>\n      <td>153.347864</td>\n      <td>199.687439</td>\n      <td>290.437990</td>\n      <td>86.762670</td>\n      <td>124.795796</td>\n      <td>239.833094</td>\n      <td>...</td>\n      <td>187.936416</td>\n      <td>14.172547</td>\n      <td>352.299619</td>\n      <td>400.498661</td>\n      <td>371.863038</td>\n      <td>15.991148</td>\n      <td>12.790563</td>\n      <td>328.534351</td>\n      <td>148.645643</td>\n      <td>26.635327</td>\n    </tr>\n    <tr>\n      <th>std</th>\n      <td>0.184424</td>\n      <td>238.166118</td>\n      <td>4900.674210</td>\n      <td>158.146603</td>\n      <td>11.566162</td>\n      <td>40.783018</td>\n      <td>101.852266</td>\n      <td>2.930881</td>\n      <td>381.805459</td>\n      <td>538.292779</td>\n      <td>...</td>\n      <td>30.118252</td>\n      <td>1.479054</td>\n      <td>140.265671</td>\n      <td>150.423924</td>\n      <td>200.186906</td>\n      <td>6.891239</td>\n      <td>2.189355</td>\n      <td>98.821070</td>\n      <td>32.355822</td>\n      <td>3.787343</td>\n    </tr>\n    <tr>\n      <th>min</th>\n      <td>0.000000</td>\n      <td>0.251000</td>\n      <td>1000.000000</td>\n      <td>100.000000</td>\n      <td>100.000000</td>\n      <td>100.000000</td>\n      <td>100.000000</td>\n      <td>10.000000</td>\n      <td>0.000000</td>\n      <td>0.000000</td>\n      <td>...</td>\n      <td>100.000000</td>\n      <td>10.000000</td>\n      <td>100.000000</td>\n      <td>100.000000</td>\n      <td>100.000000</td>\n      <td>10.000000</td>\n      <td>11.000000</td>\n      <td>100.000000</td>\n      <td>100.000000</td>\n      <td>0.000000</td>\n    </tr>\n    <tr>\n      <th>25%</th>\n      <td>0.000000</td>\n      <td>42.950000</td>\n      <td>6019.000000</td>\n      <td>215.000000</td>\n      <td>150.000000</td>\n      <td>166.000000</td>\n      <td>204.000000</td>\n      <td>87.000000</td>\n      <td>3.000000</td>\n      <td>7.000000</td>\n      <td>...</td>\n      <td>166.000000</td>\n      <td>13.000000</td>\n      <td>266.000000</td>\n      <td>256.000000</td>\n      <td>252.000000</td>\n      <td>14.000000</td>\n      <td>11.000000</td>\n      <td>321.000000</td>\n      <td>119.000000</td>\n      <td>24.000000</td>\n    </tr>\n    <tr>\n      <th>50%</th>\n      <td>0.000000</td>\n      <td>68.950000</td>\n      <td>9633.000000</td>\n      <td>361.000000</td>\n      <td>150.000000</td>\n      <td>226.000000</td>\n      <td>299.000000</td>\n      <td>87.000000</td>\n      <td>9.000000</td>\n      <td>36.000000</td>\n      <td>...</td>\n      <td>166.000000</td>\n      <td>15.000000</td>\n      <td>341.000000</td>\n      <td>469.000000</td>\n      <td>252.000000</td>\n      <td>14.000000</td>\n      <td>11.000000</td>\n      <td>321.000000</td>\n      <td>147.000000</td>\n      <td>24.000000</td>\n    </tr>\n    <tr>\n      <th>75%</th>\n      <td>0.000000</td>\n      <td>125.000000</td>\n      <td>14128.000000</td>\n      <td>512.000000</td>\n      <td>150.000000</td>\n      <td>226.000000</td>\n      <td>330.000000</td>\n      <td>87.000000</td>\n      <td>25.000000</td>\n      <td>225.000000</td>\n      <td>...</td>\n      <td>225.000000</td>\n      <td>15.000000</td>\n      <td>427.000000</td>\n      <td>521.000000</td>\n      <td>500.000000</td>\n      <td>14.000000</td>\n      <td>15.000000</td>\n      <td>371.000000</td>\n      <td>169.000000</td>\n      <td>32.000000</td>\n    </tr>\n    <tr>\n      <th>max</th>\n      <td>1.000000</td>\n      <td>31937.391000</td>\n      <td>18396.000000</td>\n      <td>600.000000</td>\n      <td>231.000000</td>\n      <td>237.000000</td>\n      <td>540.000000</td>\n      <td>102.000000</td>\n      <td>10286.000000</td>\n      <td>11623.000000</td>\n      <td>...</td>\n      <td>229.000000</td>\n      <td>29.000000</td>\n      <td>671.000000</td>\n      <td>661.000000</td>\n      <td>854.000000</td>\n      <td>44.000000</td>\n      <td>26.000000</td>\n      <td>548.000000</td>\n      <td>216.000000</td>\n      <td>32.000000</td>\n    </tr>\n  </tbody>\n</table>\n<p>8 rows × 401 columns</p>\n</div>"
     },
     "execution_count": 55,
     "metadata": {},
     "output_type": "execute_result"
    }
   ],
   "source": [
    "df_train.select_dtypes(include=['number']).describe()"
   ],
   "metadata": {
    "collapsed": false,
    "ExecuteTime": {
     "end_time": "2025-03-20T14:32:23.080329300Z",
     "start_time": "2025-03-20T14:31:01.120387300Z"
    }
   }
  },
  {
   "cell_type": "markdown",
   "source": [
    "У фичей id_21 id_22 id_24 id_25 id_26 очень мало значений около 4 т. и небольшая корреляция с ЦП, возможно их стоило бы совсем исключить, но мы заполним их медианой.\n",
    "Заполним остальные числовые признаки медианами, также отметим, что во многих из них встречаются выбросы."
   ],
   "metadata": {
    "collapsed": false
   }
  },
  {
   "cell_type": "code",
   "execution_count": 56,
   "outputs": [
    {
     "data": {
      "text/plain": "                 isFraud  TransactionAmt     card1     card2     card3  \\\nisFraud         1.000000        0.009483 -0.014045  0.001770  0.147305   \nTransactionAmt  0.009483        1.000000 -0.001607  0.015450 -0.111239   \ncard1          -0.014045       -0.001607  1.000000  0.002618 -0.000444   \ncard2           0.001770        0.015450  0.002618  1.000000  0.025930   \ncard3           0.147305       -0.111239 -0.000444  0.025930  1.000000   \n...                  ...             ...       ...       ...       ...   \nid_22           0.105125       -0.105445  0.012329 -0.031990  0.648576   \nid_24          -0.072429        0.062199  0.051554 -0.008905 -0.002258   \nid_25           0.037179        0.031998  0.005820 -0.026556  0.150045   \nid_26           0.073745        0.022434  0.085630 -0.000548  0.238839   \nid_32           0.066338       -0.053061  0.003826 -0.029126  0.006112   \n\n                   card5     addr1     addr2     dist1     dist2  ...  \\\nisFraud        -0.037140 -0.002122 -0.033326  0.021164 -0.018474  ...   \nTransactionAmt  0.001733 -0.007828  0.032196  0.026503  0.020575  ...   \ncard1          -0.087744  0.018365 -0.000944  0.008260  0.000346  ...   \ncard2           0.031181  0.029185 -0.024645 -0.011497  0.017956  ...   \ncard3          -0.165335  0.004521 -0.574966 -0.011144 -0.146727  ...   \n...                  ...       ...       ...       ...       ...  ...   \nid_22          -0.169167  0.084520 -0.351236       NaN  0.052436  ...   \nid_24           0.000444 -0.038008 -0.043411       NaN  0.046945  ...   \nid_25          -0.066636  0.002416  0.009848       NaN -0.046301  ...   \nid_26          -0.090610  0.042504 -0.070406       NaN  0.158301  ...   \nid_32           0.034094 -0.007045  0.002541       NaN  0.037156  ...   \n\n                   id_17     id_18     id_19     id_20     id_21     id_22  \\\nisFraud         0.150022  0.055578 -0.032266  0.061558  0.045967  0.105125   \nTransactionAmt -0.317657 -0.085228  0.071836 -0.104391 -0.024534 -0.105445   \ncard1           0.019009  0.000722  0.007894  0.007106  0.043930  0.012329   \ncard2          -0.029116 -0.016906  0.003641 -0.010966 -0.015174 -0.031990   \ncard3           0.747677  0.182891 -0.156859  0.252282  0.098004  0.648576   \n...                  ...       ...       ...       ...       ...       ...   \nid_22           0.552212  0.097398  0.054881  0.041760  0.066247  1.000000   \nid_24          -0.026859  0.042252  0.298442 -0.215523  0.263598 -0.024287   \nid_25           0.156206  0.136108 -0.009851 -0.032913 -0.141083  0.199228   \nid_26           0.066922 -0.087288  0.164866  0.026037  0.068954  0.285176   \nid_32           0.021323  0.089291 -0.070145  0.019615 -0.465815 -0.070921   \n\n                   id_24     id_25     id_26     id_32  \nisFraud        -0.072429  0.037179  0.073745  0.066338  \nTransactionAmt  0.062199  0.031998  0.022434 -0.053061  \ncard1           0.051554  0.005820  0.085630  0.003826  \ncard2          -0.008905 -0.026556 -0.000548 -0.029126  \ncard3          -0.002258  0.150045  0.238839  0.006112  \n...                  ...       ...       ...       ...  \nid_22          -0.024287  0.199228  0.285176 -0.070921  \nid_24           1.000000 -0.041787  0.092900 -0.293483  \nid_25          -0.041787  1.000000  0.034601  0.049785  \nid_26           0.092900  0.034601  1.000000 -0.067784  \nid_32          -0.293483  0.049785 -0.067784  1.000000  \n\n[401 rows x 401 columns]",
      "text/html": "<div>\n<style scoped>\n    .dataframe tbody tr th:only-of-type {\n        vertical-align: middle;\n    }\n\n    .dataframe tbody tr th {\n        vertical-align: top;\n    }\n\n    .dataframe thead th {\n        text-align: right;\n    }\n</style>\n<table border=\"1\" class=\"dataframe\">\n  <thead>\n    <tr style=\"text-align: right;\">\n      <th></th>\n      <th>isFraud</th>\n      <th>TransactionAmt</th>\n      <th>card1</th>\n      <th>card2</th>\n      <th>card3</th>\n      <th>card5</th>\n      <th>addr1</th>\n      <th>addr2</th>\n      <th>dist1</th>\n      <th>dist2</th>\n      <th>...</th>\n      <th>id_17</th>\n      <th>id_18</th>\n      <th>id_19</th>\n      <th>id_20</th>\n      <th>id_21</th>\n      <th>id_22</th>\n      <th>id_24</th>\n      <th>id_25</th>\n      <th>id_26</th>\n      <th>id_32</th>\n    </tr>\n  </thead>\n  <tbody>\n    <tr>\n      <th>isFraud</th>\n      <td>1.000000</td>\n      <td>0.009483</td>\n      <td>-0.014045</td>\n      <td>0.001770</td>\n      <td>0.147305</td>\n      <td>-0.037140</td>\n      <td>-0.002122</td>\n      <td>-0.033326</td>\n      <td>0.021164</td>\n      <td>-0.018474</td>\n      <td>...</td>\n      <td>0.150022</td>\n      <td>0.055578</td>\n      <td>-0.032266</td>\n      <td>0.061558</td>\n      <td>0.045967</td>\n      <td>0.105125</td>\n      <td>-0.072429</td>\n      <td>0.037179</td>\n      <td>0.073745</td>\n      <td>0.066338</td>\n    </tr>\n    <tr>\n      <th>TransactionAmt</th>\n      <td>0.009483</td>\n      <td>1.000000</td>\n      <td>-0.001607</td>\n      <td>0.015450</td>\n      <td>-0.111239</td>\n      <td>0.001733</td>\n      <td>-0.007828</td>\n      <td>0.032196</td>\n      <td>0.026503</td>\n      <td>0.020575</td>\n      <td>...</td>\n      <td>-0.317657</td>\n      <td>-0.085228</td>\n      <td>0.071836</td>\n      <td>-0.104391</td>\n      <td>-0.024534</td>\n      <td>-0.105445</td>\n      <td>0.062199</td>\n      <td>0.031998</td>\n      <td>0.022434</td>\n      <td>-0.053061</td>\n    </tr>\n    <tr>\n      <th>card1</th>\n      <td>-0.014045</td>\n      <td>-0.001607</td>\n      <td>1.000000</td>\n      <td>0.002618</td>\n      <td>-0.000444</td>\n      <td>-0.087744</td>\n      <td>0.018365</td>\n      <td>-0.000944</td>\n      <td>0.008260</td>\n      <td>0.000346</td>\n      <td>...</td>\n      <td>0.019009</td>\n      <td>0.000722</td>\n      <td>0.007894</td>\n      <td>0.007106</td>\n      <td>0.043930</td>\n      <td>0.012329</td>\n      <td>0.051554</td>\n      <td>0.005820</td>\n      <td>0.085630</td>\n      <td>0.003826</td>\n    </tr>\n    <tr>\n      <th>card2</th>\n      <td>0.001770</td>\n      <td>0.015450</td>\n      <td>0.002618</td>\n      <td>1.000000</td>\n      <td>0.025930</td>\n      <td>0.031181</td>\n      <td>0.029185</td>\n      <td>-0.024645</td>\n      <td>-0.011497</td>\n      <td>0.017956</td>\n      <td>...</td>\n      <td>-0.029116</td>\n      <td>-0.016906</td>\n      <td>0.003641</td>\n      <td>-0.010966</td>\n      <td>-0.015174</td>\n      <td>-0.031990</td>\n      <td>-0.008905</td>\n      <td>-0.026556</td>\n      <td>-0.000548</td>\n      <td>-0.029126</td>\n    </tr>\n    <tr>\n      <th>card3</th>\n      <td>0.147305</td>\n      <td>-0.111239</td>\n      <td>-0.000444</td>\n      <td>0.025930</td>\n      <td>1.000000</td>\n      <td>-0.165335</td>\n      <td>0.004521</td>\n      <td>-0.574966</td>\n      <td>-0.011144</td>\n      <td>-0.146727</td>\n      <td>...</td>\n      <td>0.747677</td>\n      <td>0.182891</td>\n      <td>-0.156859</td>\n      <td>0.252282</td>\n      <td>0.098004</td>\n      <td>0.648576</td>\n      <td>-0.002258</td>\n      <td>0.150045</td>\n      <td>0.238839</td>\n      <td>0.006112</td>\n    </tr>\n    <tr>\n      <th>...</th>\n      <td>...</td>\n      <td>...</td>\n      <td>...</td>\n      <td>...</td>\n      <td>...</td>\n      <td>...</td>\n      <td>...</td>\n      <td>...</td>\n      <td>...</td>\n      <td>...</td>\n      <td>...</td>\n      <td>...</td>\n      <td>...</td>\n      <td>...</td>\n      <td>...</td>\n      <td>...</td>\n      <td>...</td>\n      <td>...</td>\n      <td>...</td>\n      <td>...</td>\n      <td>...</td>\n    </tr>\n    <tr>\n      <th>id_22</th>\n      <td>0.105125</td>\n      <td>-0.105445</td>\n      <td>0.012329</td>\n      <td>-0.031990</td>\n      <td>0.648576</td>\n      <td>-0.169167</td>\n      <td>0.084520</td>\n      <td>-0.351236</td>\n      <td>NaN</td>\n      <td>0.052436</td>\n      <td>...</td>\n      <td>0.552212</td>\n      <td>0.097398</td>\n      <td>0.054881</td>\n      <td>0.041760</td>\n      <td>0.066247</td>\n      <td>1.000000</td>\n      <td>-0.024287</td>\n      <td>0.199228</td>\n      <td>0.285176</td>\n      <td>-0.070921</td>\n    </tr>\n    <tr>\n      <th>id_24</th>\n      <td>-0.072429</td>\n      <td>0.062199</td>\n      <td>0.051554</td>\n      <td>-0.008905</td>\n      <td>-0.002258</td>\n      <td>0.000444</td>\n      <td>-0.038008</td>\n      <td>-0.043411</td>\n      <td>NaN</td>\n      <td>0.046945</td>\n      <td>...</td>\n      <td>-0.026859</td>\n      <td>0.042252</td>\n      <td>0.298442</td>\n      <td>-0.215523</td>\n      <td>0.263598</td>\n      <td>-0.024287</td>\n      <td>1.000000</td>\n      <td>-0.041787</td>\n      <td>0.092900</td>\n      <td>-0.293483</td>\n    </tr>\n    <tr>\n      <th>id_25</th>\n      <td>0.037179</td>\n      <td>0.031998</td>\n      <td>0.005820</td>\n      <td>-0.026556</td>\n      <td>0.150045</td>\n      <td>-0.066636</td>\n      <td>0.002416</td>\n      <td>0.009848</td>\n      <td>NaN</td>\n      <td>-0.046301</td>\n      <td>...</td>\n      <td>0.156206</td>\n      <td>0.136108</td>\n      <td>-0.009851</td>\n      <td>-0.032913</td>\n      <td>-0.141083</td>\n      <td>0.199228</td>\n      <td>-0.041787</td>\n      <td>1.000000</td>\n      <td>0.034601</td>\n      <td>0.049785</td>\n    </tr>\n    <tr>\n      <th>id_26</th>\n      <td>0.073745</td>\n      <td>0.022434</td>\n      <td>0.085630</td>\n      <td>-0.000548</td>\n      <td>0.238839</td>\n      <td>-0.090610</td>\n      <td>0.042504</td>\n      <td>-0.070406</td>\n      <td>NaN</td>\n      <td>0.158301</td>\n      <td>...</td>\n      <td>0.066922</td>\n      <td>-0.087288</td>\n      <td>0.164866</td>\n      <td>0.026037</td>\n      <td>0.068954</td>\n      <td>0.285176</td>\n      <td>0.092900</td>\n      <td>0.034601</td>\n      <td>1.000000</td>\n      <td>-0.067784</td>\n    </tr>\n    <tr>\n      <th>id_32</th>\n      <td>0.066338</td>\n      <td>-0.053061</td>\n      <td>0.003826</td>\n      <td>-0.029126</td>\n      <td>0.006112</td>\n      <td>0.034094</td>\n      <td>-0.007045</td>\n      <td>0.002541</td>\n      <td>NaN</td>\n      <td>0.037156</td>\n      <td>...</td>\n      <td>0.021323</td>\n      <td>0.089291</td>\n      <td>-0.070145</td>\n      <td>0.019615</td>\n      <td>-0.465815</td>\n      <td>-0.070921</td>\n      <td>-0.293483</td>\n      <td>0.049785</td>\n      <td>-0.067784</td>\n      <td>1.000000</td>\n    </tr>\n  </tbody>\n</table>\n<p>401 rows × 401 columns</p>\n</div>"
     },
     "execution_count": 56,
     "metadata": {},
     "output_type": "execute_result"
    }
   ],
   "source": [
    "df_train.select_dtypes(include=['number']).corr()"
   ],
   "metadata": {
    "collapsed": false,
    "ExecuteTime": {
     "end_time": "2025-03-20T14:45:48.033408300Z",
     "start_time": "2025-03-20T14:39:33.501666500Z"
    }
   }
  },
  {
   "cell_type": "markdown",
   "source": [
    "Как мы видим наибольшая корреляция Пирсона у ЦП и признаков:\n",
    "V257\n",
    "V244\n",
    "V242\n",
    "V246\n",
    "V201\n",
    "Однако, они анонимные и выводы сделать сложно."
   ],
   "metadata": {
    "collapsed": false
   }
  },
  {
   "cell_type": "markdown",
   "source": [
    "# **Задание 2 (3 балла)**\n",
    "\n",
    "Обучите несколько ML-моделей для решения поставленной задачи.\n",
    "Оцените их качество двумя способами:\n",
    "\n",
    "1) на кросс-валидации\n",
    "\n",
    "2) на лидерборде\n",
    "\n",
    "Подберите число фолдов на кросс-валидации так, чтобы метрики, которые вы видите, были максимально близки на кросс-валидации и на лидерборде.\n",
    "\n",
    "По результатам экспериментов постройте таблицу:\n",
    "* в каждой строке таблицы - результаты одной модели\n",
    "* по столбцам: качество на кросс-валидации, качество на лидерборде, модель с гиперпараметрами\n",
    "Полученную таблицу вставьте картинкой прямо в ноутбук после ячеек с кодом. Сделайте текстовые выводы."
   ],
   "metadata": {
    "id": "vWNI5i4S7VzN"
   }
  },
  {
   "cell_type": "code",
   "source": [
    "Top_categorical_pipeline = Pipeline([\n",
    "    (\"email_encoder\", TopNCategoricalEncoder(top_n=10)),\n",
    "    (\"target_encoder\", FillMissingValues())\n",
    "])\n",
    "\n",
    "\n",
    "Target_encoding_pipeline = Pipeline([\n",
    "    (\"fill_missing\", FillMissingValues(strategy=\"unknown\")),\n",
    "    (\"target_encoder\", TargetEncoder(smoothing=0.3))\n",
    "])\n",
    "\n",
    "categorical_processing = FeatureUnion([\n",
    "    (\"original_encoding\", ColumnTransformer(\n",
    "        transformers=[\n",
    "            (\"cat_transf1\", FillMissingValues(strategy='mode'), ['card4', 'card6']),\n",
    "            (\"cat_transf2\", Top_categorical_pipeline, ['DeviceInfo', 'id_30', 'id_31', 'id_33', 'P_emaildomain', 'R_emaildomain']),\n",
    "            (\"cat_transf3\", FillMissingValues(strategy='unknown'), ['ProductCD', 'M1', 'M2', 'M3', 'M4', 'M5', 'M6', 'M7', 'M8', 'M9',\n",
    "                                                                   'id_12', 'id_15', 'id_16', 'id_23', 'id_27', 'id_28', 'id_29',\n",
    "                                                                   'id_34', 'id_35', 'id_36', 'id_37', 'id_38', 'DeviceType'])\n",
    "        ]\n",
    "    )),\n",
    "    (\"target_encoding\", Target_encoding_pipeline)\n",
    "])\n",
    "\n",
    "full_pipeline = ColumnTransformer(\n",
    "    transformers=[\n",
    "        (\"cat_transf\", categorical_processing, ['ProductCD', 'card4', 'card6', 'P_emaildomain', 'R_emaildomain', 'M1',\n",
    "                                                'M2', 'M3', 'M4', 'M5', 'M6', 'M7', 'M8', 'M9', 'id_12', 'id_15',\n",
    "                                                'id_16', 'id_23', 'id_27', 'id_28', 'id_29', 'id_30', 'id_31', 'id_33',\n",
    "                                                'id_34', 'id_35', 'id_36', 'id_37', 'id_38', 'DeviceType', 'DeviceInfo']),\n",
    "        (\"num_transf\", FillMissingValues(strategy='median'), df_train.select_dtypes(include=['number']).columns)\n",
    "    ]\n",
    ")\n",
    "\n",
    "\n",
    "\n",
    "full_pipeline.fit(df_train)\n",
    "\n",
    "full_pipeline.transform(df_train)"
   ],
   "metadata": {
    "id": "4yEMdMQv77og",
    "ExecuteTime": {
     "end_time": "2025-03-20T17:02:11.573024900Z",
     "start_time": "2025-03-20T16:53:54.553093600Z"
    }
   },
   "execution_count": 95,
   "outputs": [
    {
     "data": {
      "text/plain": "array([['discover', 'credit', 'unknown', ..., 321.0, 147.0, 24.0],\n       ['mastercard', 'credit', 'unknown', ..., 321.0, 147.0, 24.0],\n       ['visa', 'debit', 'unknown', ..., 321.0, 147.0, 24.0],\n       ...,\n       ['visa', 'debit', 'other', ..., 321.0, 147.0, 24.0],\n       ['visa', 'debit', 'unknown', ..., 321.0, 147.0, 24.0],\n       ['visa', 'debit', 'unknown', ..., 321.0, 147.0, 24.0]],\n      dtype=object)"
     },
     "execution_count": 95,
     "metadata": {},
     "output_type": "execute_result"
    }
   ]
  },
  {
   "cell_type": "code",
   "execution_count": 84,
   "outputs": [
    {
     "data": {
      "text/plain": "Index(['ProductCD', 'card4', 'card6', 'P_emaildomain', 'R_emaildomain', 'M1',\n       'M2', 'M3', 'M4', 'M5', 'M6', 'M7', 'M8', 'M9', 'id_12', 'id_15',\n       'id_16', 'id_23', 'id_27', 'id_28', 'id_29', 'id_30', 'id_31', 'id_33',\n       'id_34', 'id_35', 'id_36', 'id_37', 'id_38', 'DeviceType',\n       'DeviceInfo'],\n      dtype='object')"
     },
     "execution_count": 84,
     "metadata": {},
     "output_type": "execute_result"
    }
   ],
   "source": [
    "df_train.select_dtypes(exclude=['number']).columns"
   ],
   "metadata": {
    "collapsed": false,
    "ExecuteTime": {
     "end_time": "2025-03-20T16:39:20.273594300Z",
     "start_time": "2025-03-20T16:39:18.978292200Z"
    }
   }
  },
  {
   "cell_type": "markdown",
   "source": [
    "# **Задание 3 (2 балла)**\n",
    "\n",
    "Попробуйте подойти к задаче как к поиску аномалий.\n",
    "\n",
    "1) Поищите аномалии (фрод) различными рассмотренными в курсе методами и сделайте прогноз на тестовых данных.\n",
    "\n",
    "Результатом также будет таблица:\n",
    "* по строкам - методы поиска аномалий\n",
    "* по столбцам - качество вашего решения на leaderboard\n",
    "\n",
    "2) Попробуйте встроить поиск аномалий и их удаление в ML-пайплайн: найдите аномалии и что-нибудь с ними сделайте до обучения моделей (можно удалить их, а можно использовать в качестве дополнительных признаков - попробуйте разные стратегии). Результат проверьте на кросс-валидации и на лидерборде, сделайте выводы."
   ],
   "metadata": {
    "id": "qYedT0TJ79RC"
   }
  },
  {
   "cell_type": "code",
   "source": [
    "# ваша работа с аномалиями здесь"
   ],
   "metadata": {
    "id": "yjfDSPh-7-dh"
   },
   "execution_count": null,
   "outputs": []
  },
  {
   "cell_type": "markdown",
   "source": [
    "# **Задание 4 (1 балл)**\n",
    "\n",
    "Сделайте кластеризацию различными способами. Результаты кластеризации используйте для улучшения ML-решений:\n",
    "\n",
    "1) Номера кластеров закодируйте (OHE или target-encoding) и добавьте как новые признаки\n",
    "\n",
    "2) При использовании DBSCAN / HDBSCAN предсказанный шум можно трактовать как найденную аномалию и также добавить ее как новый признак\n",
    "\n",
    "Проведите различные эксперименты. Проверьте как эти подходы влияют на качество прогнозов по кросс-валидации и на лидерборде, сделайте выводы."
   ],
   "metadata": {
    "id": "LWokFc_n8qSR"
   }
  },
  {
   "cell_type": "code",
   "source": [
    "# ваши эксперименты с кластеризацией здесь"
   ],
   "metadata": {
    "id": "aS2aMVfg9G1h"
   },
   "execution_count": null,
   "outputs": []
  },
  {
   "cell_type": "markdown",
   "source": [
    "## **Задание 5 (1 балл)**\n",
    "\n",
    "Примените какой-нибудь (один любой) AutoML фреймворк для решения поставленной задачи.\n",
    "\n",
    "Отправьте AutoML-прогноз на kaggle и посмотрите на качество модели. Сделайте текстовые выводы."
   ],
   "metadata": {
    "id": "-cLx2cL--7MM"
   }
  },
  {
   "cell_type": "code",
   "source": [
    "# ваш AutoML здесь"
   ],
   "metadata": {
    "id": "Rhw85LDV_QJn"
   },
   "execution_count": null,
   "outputs": []
  },
  {
   "cell_type": "markdown",
   "source": [
    "# **Задание 6 (1 балл)**\n",
    "\n",
    "Весь курс мы работали в Google Colab. Но всегда должны быть запасные варианты, где Вы будете обучать модели.\n",
    "\n",
    "Среди вариантов есть:\n",
    "* ваша локальная машина\n",
    "* kaggle notebooks\n",
    "* yandex cloud\n",
    "и другие.\n",
    "\n",
    "Кроме привычного Google Colab выберите из списка выше один любой альтернативный вариант и проведите эксперимент:\n",
    "\n",
    "* Прогоните ваш лучший по качеству по результатам заданий 2-4 ML-пайплайн заново в Google Colab и с помощью библиотек (например, при помощи библиотеки time) замерьте время обучения и отдельно время инференса на тестовых данных\n",
    "\n",
    "* Прогоните этот пайплайн на выбранном альтернативном сервисе/локальной машине и также замерьте время обучения и инференса.\n",
    "\n",
    "Текстом напишите выводы: опишите, какое альтернативное место для обучения моделей Вы использовали? Прикрепите прямо в ноутбук скриншот с экраном кода в альтернативном сервисе/на локальной машине. Также в виде таблицы приведите сравнение времени обучения и инференса в колабе и в альтернативном месте. Сделайте выводы."
   ],
   "metadata": {
    "id": "mxUr8jaG9JxA"
   }
  },
  {
   "cell_type": "code",
   "source": [
    "# ваши эксперименты здесь"
   ],
   "metadata": {
    "id": "Os6aMaqS-MjX"
   },
   "execution_count": null,
   "outputs": []
  },
  {
   "cell_type": "markdown",
   "source": [
    "# **Бонус: за Kaggle и стремление к хорошим скорам (2 балла)**\n",
    "\n",
    "В этом домашнем задании Ваша цель - не просто выполнить шаги выше, но и построить максимально хорошую по качеству модель.\n",
    "\n",
    "**К 10 вы можете получить до двух дополнительных баллов:**\n",
    "\n",
    "* За попадание в топ-20% на private leaderboard — +1 дополнительный балл к оценке\n",
    "* За попадание в топ-5 мест на private leaderboard — + еще один дополнительный балл к оценке (то есть суммарно 2 дополнительных балла)\n",
    "\n",
    "**ВАЖНО!!!**\n",
    "\n",
    "Эти баллы ставятся до мягкого дедлайна по соревнованию. После мягкого дедлайна лидерборд не обновляется, и дополнительные баллы не ставятся.\n",
    "\n",
    "Успехов!"
   ],
   "metadata": {
    "id": "r-CI3PL9-P45"
   }
  },
  {
   "cell_type": "code",
   "source": [
    "# не забудьте прикрепить скриншоты лидерборда, пожалуйста"
   ],
   "metadata": {
    "id": "BywMmnkB-s3w"
   },
   "execution_count": null,
   "outputs": []
  }
 ]
}
